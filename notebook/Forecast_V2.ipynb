{
  "nbformat": 4,
  "nbformat_minor": 0,
  "metadata": {
    "colab": {
      "name": "Forecast_V2.ipynb",
      "provenance": [],
      "collapsed_sections": [],
      "authorship_tag": "ABX9TyNuTlpFh0kp7zCAv5geRvPz",
      "include_colab_link": true
    },
    "kernelspec": {
      "name": "python3",
      "display_name": "Python 3"
    },
    "language_info": {
      "name": "python"
    },
    "accelerator": "GPU"
  },
  "cells": [
    {
      "cell_type": "markdown",
      "metadata": {
        "id": "view-in-github",
        "colab_type": "text"
      },
      "source": [
        "<a href=\"https://colab.research.google.com/github/C22-PS001-Capstone/Vee-ML-Deployment/blob/main/Forecast_V2.ipynb\" target=\"_parent\"><img src=\"https://colab.research.google.com/assets/colab-badge.svg\" alt=\"Open In Colab\"/></a>"
      ]
    },
    {
      "cell_type": "code",
      "execution_count": 14,
      "metadata": {
        "id": "OHLuawrUCVl-"
      },
      "outputs": [],
      "source": [
        "import numpy as np\n",
        "import pandas as pd\n",
        "from keras.layers import Dense, LSTM\n",
        "import matplotlib.pyplot as plt\n",
        "import tensorflow as tf\n",
        "from sklearn.preprocessing import MinMaxScaler\n",
        "from tensorflow.python.keras.layers import CuDNNLSTM"
      ]
    },
    {
      "cell_type": "code",
      "source": [
        "RANDOM_SEED=21"
      ],
      "metadata": {
        "id": "zBwsw_DLCcWS"
      },
      "execution_count": 15,
      "outputs": []
    },
    {
      "cell_type": "code",
      "source": [
        "! wget -c 'https://raw.githubusercontent.com/C22-PS001-Capstone/Vee-ML-Deployment/main/dataset/data.csv' 'data.csv'"
      ],
      "metadata": {
        "colab": {
          "base_uri": "https://localhost:8080/"
        },
        "id": "EfLAYQ0HCncm",
        "outputId": "41eaaad7-9177-44e4-edec-dd5daeb0d9ed"
      },
      "execution_count": 94,
      "outputs": [
        {
          "output_type": "stream",
          "name": "stdout",
          "text": [
            "--2022-06-06 14:01:01--  https://raw.githubusercontent.com/C22-PS001-Capstone/Vee-ML-Deployment/main/dataset/data.csv\n",
            "Resolving raw.githubusercontent.com (raw.githubusercontent.com)... 185.199.110.133, 185.199.111.133, 185.199.108.133, ...\n",
            "Connecting to raw.githubusercontent.com (raw.githubusercontent.com)|185.199.110.133|:443... connected.\n",
            "HTTP request sent, awaiting response... 416 Range Not Satisfiable\n",
            "\n",
            "    The file is already fully retrieved; nothing to do.\n",
            "\n",
            "--2022-06-06 14:01:02--  http://data.csv/\n",
            "Resolving data.csv (data.csv)... failed: Name or service not known.\n",
            "wget: unable to resolve host address ‘data.csv’\n"
          ]
        }
      ]
    },
    {
      "cell_type": "code",
      "source": [
        "raw_data = pd.read_csv(\"data.csv\")\n",
        "raw_data.head()"
      ],
      "metadata": {
        "colab": {
          "base_uri": "https://localhost:8080/",
          "height": 206
        },
        "id": "nMK-MJudCp0F",
        "outputId": "4d91c360-c868-4eb1-d8e6-0dc5273df9f3"
      },
      "execution_count": 17,
      "outputs": [
        {
          "output_type": "execute_result",
          "data": {
            "text/plain": [
              "         date    cost\n",
              "0  2019-01-06  305350\n",
              "1  2019-01-10  325050\n",
              "2  2019-01-11  285650\n",
              "3  2019-01-16  315200\n",
              "4  2019-01-22  256100"
            ],
            "text/html": [
              "\n",
              "  <div id=\"df-8e539681-c0a5-417a-8368-c1c167a97718\">\n",
              "    <div class=\"colab-df-container\">\n",
              "      <div>\n",
              "<style scoped>\n",
              "    .dataframe tbody tr th:only-of-type {\n",
              "        vertical-align: middle;\n",
              "    }\n",
              "\n",
              "    .dataframe tbody tr th {\n",
              "        vertical-align: top;\n",
              "    }\n",
              "\n",
              "    .dataframe thead th {\n",
              "        text-align: right;\n",
              "    }\n",
              "</style>\n",
              "<table border=\"1\" class=\"dataframe\">\n",
              "  <thead>\n",
              "    <tr style=\"text-align: right;\">\n",
              "      <th></th>\n",
              "      <th>date</th>\n",
              "      <th>cost</th>\n",
              "    </tr>\n",
              "  </thead>\n",
              "  <tbody>\n",
              "    <tr>\n",
              "      <th>0</th>\n",
              "      <td>2019-01-06</td>\n",
              "      <td>305350</td>\n",
              "    </tr>\n",
              "    <tr>\n",
              "      <th>1</th>\n",
              "      <td>2019-01-10</td>\n",
              "      <td>325050</td>\n",
              "    </tr>\n",
              "    <tr>\n",
              "      <th>2</th>\n",
              "      <td>2019-01-11</td>\n",
              "      <td>285650</td>\n",
              "    </tr>\n",
              "    <tr>\n",
              "      <th>3</th>\n",
              "      <td>2019-01-16</td>\n",
              "      <td>315200</td>\n",
              "    </tr>\n",
              "    <tr>\n",
              "      <th>4</th>\n",
              "      <td>2019-01-22</td>\n",
              "      <td>256100</td>\n",
              "    </tr>\n",
              "  </tbody>\n",
              "</table>\n",
              "</div>\n",
              "      <button class=\"colab-df-convert\" onclick=\"convertToInteractive('df-8e539681-c0a5-417a-8368-c1c167a97718')\"\n",
              "              title=\"Convert this dataframe to an interactive table.\"\n",
              "              style=\"display:none;\">\n",
              "        \n",
              "  <svg xmlns=\"http://www.w3.org/2000/svg\" height=\"24px\"viewBox=\"0 0 24 24\"\n",
              "       width=\"24px\">\n",
              "    <path d=\"M0 0h24v24H0V0z\" fill=\"none\"/>\n",
              "    <path d=\"M18.56 5.44l.94 2.06.94-2.06 2.06-.94-2.06-.94-.94-2.06-.94 2.06-2.06.94zm-11 1L8.5 8.5l.94-2.06 2.06-.94-2.06-.94L8.5 2.5l-.94 2.06-2.06.94zm10 10l.94 2.06.94-2.06 2.06-.94-2.06-.94-.94-2.06-.94 2.06-2.06.94z\"/><path d=\"M17.41 7.96l-1.37-1.37c-.4-.4-.92-.59-1.43-.59-.52 0-1.04.2-1.43.59L10.3 9.45l-7.72 7.72c-.78.78-.78 2.05 0 2.83L4 21.41c.39.39.9.59 1.41.59.51 0 1.02-.2 1.41-.59l7.78-7.78 2.81-2.81c.8-.78.8-2.07 0-2.86zM5.41 20L4 18.59l7.72-7.72 1.47 1.35L5.41 20z\"/>\n",
              "  </svg>\n",
              "      </button>\n",
              "      \n",
              "  <style>\n",
              "    .colab-df-container {\n",
              "      display:flex;\n",
              "      flex-wrap:wrap;\n",
              "      gap: 12px;\n",
              "    }\n",
              "\n",
              "    .colab-df-convert {\n",
              "      background-color: #E8F0FE;\n",
              "      border: none;\n",
              "      border-radius: 50%;\n",
              "      cursor: pointer;\n",
              "      display: none;\n",
              "      fill: #1967D2;\n",
              "      height: 32px;\n",
              "      padding: 0 0 0 0;\n",
              "      width: 32px;\n",
              "    }\n",
              "\n",
              "    .colab-df-convert:hover {\n",
              "      background-color: #E2EBFA;\n",
              "      box-shadow: 0px 1px 2px rgba(60, 64, 67, 0.3), 0px 1px 3px 1px rgba(60, 64, 67, 0.15);\n",
              "      fill: #174EA6;\n",
              "    }\n",
              "\n",
              "    [theme=dark] .colab-df-convert {\n",
              "      background-color: #3B4455;\n",
              "      fill: #D2E3FC;\n",
              "    }\n",
              "\n",
              "    [theme=dark] .colab-df-convert:hover {\n",
              "      background-color: #434B5C;\n",
              "      box-shadow: 0px 1px 3px 1px rgba(0, 0, 0, 0.15);\n",
              "      filter: drop-shadow(0px 1px 2px rgba(0, 0, 0, 0.3));\n",
              "      fill: #FFFFFF;\n",
              "    }\n",
              "  </style>\n",
              "\n",
              "      <script>\n",
              "        const buttonEl =\n",
              "          document.querySelector('#df-8e539681-c0a5-417a-8368-c1c167a97718 button.colab-df-convert');\n",
              "        buttonEl.style.display =\n",
              "          google.colab.kernel.accessAllowed ? 'block' : 'none';\n",
              "\n",
              "        async function convertToInteractive(key) {\n",
              "          const element = document.querySelector('#df-8e539681-c0a5-417a-8368-c1c167a97718');\n",
              "          const dataTable =\n",
              "            await google.colab.kernel.invokeFunction('convertToInteractive',\n",
              "                                                     [key], {});\n",
              "          if (!dataTable) return;\n",
              "\n",
              "          const docLinkHtml = 'Like what you see? Visit the ' +\n",
              "            '<a target=\"_blank\" href=https://colab.research.google.com/notebooks/data_table.ipynb>data table notebook</a>'\n",
              "            + ' to learn more about interactive tables.';\n",
              "          element.innerHTML = '';\n",
              "          dataTable['output_type'] = 'display_data';\n",
              "          await google.colab.output.renderOutput(dataTable, element);\n",
              "          const docLink = document.createElement('div');\n",
              "          docLink.innerHTML = docLinkHtml;\n",
              "          element.appendChild(docLink);\n",
              "        }\n",
              "      </script>\n",
              "    </div>\n",
              "  </div>\n",
              "  "
            ]
          },
          "metadata": {},
          "execution_count": 17
        }
      ]
    },
    {
      "cell_type": "code",
      "source": [
        "raw_data.shape"
      ],
      "metadata": {
        "colab": {
          "base_uri": "https://localhost:8080/"
        },
        "id": "zyCjGsh_CtSZ",
        "outputId": "aa690d53-9d5e-461b-b99b-25527cff0687"
      },
      "execution_count": 18,
      "outputs": [
        {
          "output_type": "execute_result",
          "data": {
            "text/plain": [
              "(269, 2)"
            ]
          },
          "metadata": {},
          "execution_count": 18
        }
      ]
    },
    {
      "cell_type": "code",
      "source": [
        "raw_data['cost'] = raw_data['cost']/100000\n",
        "raw_data"
      ],
      "metadata": {
        "colab": {
          "base_uri": "https://localhost:8080/",
          "height": 424
        },
        "id": "50xsXroqFHR6",
        "outputId": "73e5d4e9-6a90-4f4c-f922-7fa94b7e9c3b"
      },
      "execution_count": 19,
      "outputs": [
        {
          "output_type": "execute_result",
          "data": {
            "text/plain": [
              "           date    cost\n",
              "0    2019-01-06  3.0535\n",
              "1    2019-01-10  3.2505\n",
              "2    2019-01-11  2.8565\n",
              "3    2019-01-16  3.1520\n",
              "4    2019-01-22  2.5610\n",
              "..          ...     ...\n",
              "264  2021-12-16  2.4300\n",
              "265  2021-12-23  2.3400\n",
              "266  2021-12-26  2.6100\n",
              "267  2021-12-29  2.8800\n",
              "268  2021-12-31  2.4300\n",
              "\n",
              "[269 rows x 2 columns]"
            ],
            "text/html": [
              "\n",
              "  <div id=\"df-31539351-41f4-47d0-9da4-169090ec5a40\">\n",
              "    <div class=\"colab-df-container\">\n",
              "      <div>\n",
              "<style scoped>\n",
              "    .dataframe tbody tr th:only-of-type {\n",
              "        vertical-align: middle;\n",
              "    }\n",
              "\n",
              "    .dataframe tbody tr th {\n",
              "        vertical-align: top;\n",
              "    }\n",
              "\n",
              "    .dataframe thead th {\n",
              "        text-align: right;\n",
              "    }\n",
              "</style>\n",
              "<table border=\"1\" class=\"dataframe\">\n",
              "  <thead>\n",
              "    <tr style=\"text-align: right;\">\n",
              "      <th></th>\n",
              "      <th>date</th>\n",
              "      <th>cost</th>\n",
              "    </tr>\n",
              "  </thead>\n",
              "  <tbody>\n",
              "    <tr>\n",
              "      <th>0</th>\n",
              "      <td>2019-01-06</td>\n",
              "      <td>3.0535</td>\n",
              "    </tr>\n",
              "    <tr>\n",
              "      <th>1</th>\n",
              "      <td>2019-01-10</td>\n",
              "      <td>3.2505</td>\n",
              "    </tr>\n",
              "    <tr>\n",
              "      <th>2</th>\n",
              "      <td>2019-01-11</td>\n",
              "      <td>2.8565</td>\n",
              "    </tr>\n",
              "    <tr>\n",
              "      <th>3</th>\n",
              "      <td>2019-01-16</td>\n",
              "      <td>3.1520</td>\n",
              "    </tr>\n",
              "    <tr>\n",
              "      <th>4</th>\n",
              "      <td>2019-01-22</td>\n",
              "      <td>2.5610</td>\n",
              "    </tr>\n",
              "    <tr>\n",
              "      <th>...</th>\n",
              "      <td>...</td>\n",
              "      <td>...</td>\n",
              "    </tr>\n",
              "    <tr>\n",
              "      <th>264</th>\n",
              "      <td>2021-12-16</td>\n",
              "      <td>2.4300</td>\n",
              "    </tr>\n",
              "    <tr>\n",
              "      <th>265</th>\n",
              "      <td>2021-12-23</td>\n",
              "      <td>2.3400</td>\n",
              "    </tr>\n",
              "    <tr>\n",
              "      <th>266</th>\n",
              "      <td>2021-12-26</td>\n",
              "      <td>2.6100</td>\n",
              "    </tr>\n",
              "    <tr>\n",
              "      <th>267</th>\n",
              "      <td>2021-12-29</td>\n",
              "      <td>2.8800</td>\n",
              "    </tr>\n",
              "    <tr>\n",
              "      <th>268</th>\n",
              "      <td>2021-12-31</td>\n",
              "      <td>2.4300</td>\n",
              "    </tr>\n",
              "  </tbody>\n",
              "</table>\n",
              "<p>269 rows × 2 columns</p>\n",
              "</div>\n",
              "      <button class=\"colab-df-convert\" onclick=\"convertToInteractive('df-31539351-41f4-47d0-9da4-169090ec5a40')\"\n",
              "              title=\"Convert this dataframe to an interactive table.\"\n",
              "              style=\"display:none;\">\n",
              "        \n",
              "  <svg xmlns=\"http://www.w3.org/2000/svg\" height=\"24px\"viewBox=\"0 0 24 24\"\n",
              "       width=\"24px\">\n",
              "    <path d=\"M0 0h24v24H0V0z\" fill=\"none\"/>\n",
              "    <path d=\"M18.56 5.44l.94 2.06.94-2.06 2.06-.94-2.06-.94-.94-2.06-.94 2.06-2.06.94zm-11 1L8.5 8.5l.94-2.06 2.06-.94-2.06-.94L8.5 2.5l-.94 2.06-2.06.94zm10 10l.94 2.06.94-2.06 2.06-.94-2.06-.94-.94-2.06-.94 2.06-2.06.94z\"/><path d=\"M17.41 7.96l-1.37-1.37c-.4-.4-.92-.59-1.43-.59-.52 0-1.04.2-1.43.59L10.3 9.45l-7.72 7.72c-.78.78-.78 2.05 0 2.83L4 21.41c.39.39.9.59 1.41.59.51 0 1.02-.2 1.41-.59l7.78-7.78 2.81-2.81c.8-.78.8-2.07 0-2.86zM5.41 20L4 18.59l7.72-7.72 1.47 1.35L5.41 20z\"/>\n",
              "  </svg>\n",
              "      </button>\n",
              "      \n",
              "  <style>\n",
              "    .colab-df-container {\n",
              "      display:flex;\n",
              "      flex-wrap:wrap;\n",
              "      gap: 12px;\n",
              "    }\n",
              "\n",
              "    .colab-df-convert {\n",
              "      background-color: #E8F0FE;\n",
              "      border: none;\n",
              "      border-radius: 50%;\n",
              "      cursor: pointer;\n",
              "      display: none;\n",
              "      fill: #1967D2;\n",
              "      height: 32px;\n",
              "      padding: 0 0 0 0;\n",
              "      width: 32px;\n",
              "    }\n",
              "\n",
              "    .colab-df-convert:hover {\n",
              "      background-color: #E2EBFA;\n",
              "      box-shadow: 0px 1px 2px rgba(60, 64, 67, 0.3), 0px 1px 3px 1px rgba(60, 64, 67, 0.15);\n",
              "      fill: #174EA6;\n",
              "    }\n",
              "\n",
              "    [theme=dark] .colab-df-convert {\n",
              "      background-color: #3B4455;\n",
              "      fill: #D2E3FC;\n",
              "    }\n",
              "\n",
              "    [theme=dark] .colab-df-convert:hover {\n",
              "      background-color: #434B5C;\n",
              "      box-shadow: 0px 1px 3px 1px rgba(0, 0, 0, 0.15);\n",
              "      filter: drop-shadow(0px 1px 2px rgba(0, 0, 0, 0.3));\n",
              "      fill: #FFFFFF;\n",
              "    }\n",
              "  </style>\n",
              "\n",
              "      <script>\n",
              "        const buttonEl =\n",
              "          document.querySelector('#df-31539351-41f4-47d0-9da4-169090ec5a40 button.colab-df-convert');\n",
              "        buttonEl.style.display =\n",
              "          google.colab.kernel.accessAllowed ? 'block' : 'none';\n",
              "\n",
              "        async function convertToInteractive(key) {\n",
              "          const element = document.querySelector('#df-31539351-41f4-47d0-9da4-169090ec5a40');\n",
              "          const dataTable =\n",
              "            await google.colab.kernel.invokeFunction('convertToInteractive',\n",
              "                                                     [key], {});\n",
              "          if (!dataTable) return;\n",
              "\n",
              "          const docLinkHtml = 'Like what you see? Visit the ' +\n",
              "            '<a target=\"_blank\" href=https://colab.research.google.com/notebooks/data_table.ipynb>data table notebook</a>'\n",
              "            + ' to learn more about interactive tables.';\n",
              "          element.innerHTML = '';\n",
              "          dataTable['output_type'] = 'display_data';\n",
              "          await google.colab.output.renderOutput(dataTable, element);\n",
              "          const docLink = document.createElement('div');\n",
              "          docLink.innerHTML = docLinkHtml;\n",
              "          element.appendChild(docLink);\n",
              "        }\n",
              "      </script>\n",
              "    </div>\n",
              "  </div>\n",
              "  "
            ]
          },
          "metadata": {},
          "execution_count": 19
        }
      ]
    },
    {
      "cell_type": "code",
      "source": [
        "ax = raw_data.plot(x='date', y='cost');\n",
        "ax.set_xlabel(\"date\")\n",
        "ax.set_ylabel(\"cost\")"
      ],
      "metadata": {
        "colab": {
          "base_uri": "https://localhost:8080/",
          "height": 296
        },
        "id": "oYvzHNwZCvAq",
        "outputId": "a9e81914-c2d9-40f1-b244-d4418c4cc75c"
      },
      "execution_count": 20,
      "outputs": [
        {
          "output_type": "execute_result",
          "data": {
            "text/plain": [
              "Text(0, 0.5, 'cost')"
            ]
          },
          "metadata": {},
          "execution_count": 20
        },
        {
          "output_type": "display_data",
          "data": {
            "text/plain": [
              "<Figure size 432x288 with 1 Axes>"
            ],
            "image/png": "[encoded data removed]"
          },
          "metadata": {
            "needs_background": "light"
          }
        }
      ]
    },
    {
      "cell_type": "code",
      "source": [
        "scaler = MinMaxScaler()\n",
        "\n",
        "cost = raw_data.cost.values.reshape(-1, 1)\n",
        "\n",
        "scaled_cost = scaler.fit_transform(cost)"
      ],
      "metadata": {
        "id": "p6pVsO3XC2JM"
      },
      "execution_count": 21,
      "outputs": []
    },
    {
      "cell_type": "code",
      "source": [
        "np.isnan(scaled_cost).any()"
      ],
      "metadata": {
        "colab": {
          "base_uri": "https://localhost:8080/"
        },
        "id": "5Mv4ln23C9YF",
        "outputId": "c0a8c43e-4caf-4d99-937a-bcc8f136f7fd"
      },
      "execution_count": 22,
      "outputs": [
        {
          "output_type": "execute_result",
          "data": {
            "text/plain": [
              "False"
            ]
          },
          "metadata": {},
          "execution_count": 22
        }
      ]
    },
    {
      "cell_type": "code",
      "source": [
        "scaled_cost = scaled_cost[~np.isnan(scaled_cost)]\n",
        "scaled_cost = scaled_cost.reshape(-1, 1)\n",
        "scaled_cost"
      ],
      "metadata": {
        "colab": {
          "base_uri": "https://localhost:8080/"
        },
        "id": "LkByKBuJDCjE",
        "outputId": "bcd99f0a-4ec5-4ef9-f70e-66e920c800a1"
      },
      "execution_count": 23,
      "outputs": [
        {
          "output_type": "execute_result",
          "data": {
            "text/plain": [
              "array([[0.82925318],\n",
              "       [0.91462659],\n",
              "       [0.74387977],\n",
              "       [0.87193988],\n",
              "       [0.61581965],\n",
              "       [0.65850636],\n",
              "       [0.82925318],\n",
              "       [0.82925318],\n",
              "       [0.65850636],\n",
              "       [0.70119306],\n",
              "       [0.65850636],\n",
              "       [0.82925318],\n",
              "       [0.91462659],\n",
              "       [0.78656647],\n",
              "       [0.61581965],\n",
              "       [0.61581965],\n",
              "       [0.74387977],\n",
              "       [0.95731329],\n",
              "       [0.78656647],\n",
              "       [0.82925318],\n",
              "       [0.61581965],\n",
              "       [0.74387977],\n",
              "       [0.91462659],\n",
              "       [0.78656647],\n",
              "       [0.91462659],\n",
              "       [0.74387977],\n",
              "       [0.95731329],\n",
              "       [0.74387977],\n",
              "       [0.87193988],\n",
              "       [0.74387977],\n",
              "       [0.95731329],\n",
              "       [0.82925318],\n",
              "       [0.70119306],\n",
              "       [0.91462659],\n",
              "       [1.        ],\n",
              "       [0.70119306],\n",
              "       [0.91462659],\n",
              "       [0.61581965],\n",
              "       [0.87193988],\n",
              "       [0.82925318],\n",
              "       [0.65850636],\n",
              "       [0.87193988],\n",
              "       [0.74387977],\n",
              "       [0.82925318],\n",
              "       [0.95731329],\n",
              "       [0.65850636],\n",
              "       [0.91462659],\n",
              "       [0.82925318],\n",
              "       [0.78656647],\n",
              "       [1.        ],\n",
              "       [0.78656647],\n",
              "       [0.87193988],\n",
              "       [0.65850636],\n",
              "       [0.74387977],\n",
              "       [0.91462659],\n",
              "       [0.70119306],\n",
              "       [0.82925318],\n",
              "       [0.95731329],\n",
              "       [0.61581965],\n",
              "       [0.95731329],\n",
              "       [0.70119306],\n",
              "       [0.61581965],\n",
              "       [0.95731329],\n",
              "       [0.91462659],\n",
              "       [0.70119306],\n",
              "       [0.74387977],\n",
              "       [0.65850636],\n",
              "       [0.95731329],\n",
              "       [0.87193988],\n",
              "       [0.70119306],\n",
              "       [0.61581965],\n",
              "       [0.95731329],\n",
              "       [0.91462659],\n",
              "       [0.78656647],\n",
              "       [0.78656647],\n",
              "       [0.78656647],\n",
              "       [0.70119306],\n",
              "       [0.78656647],\n",
              "       [0.74387977],\n",
              "       [0.70119306],\n",
              "       [0.78656647],\n",
              "       [0.61581965],\n",
              "       [0.78656647],\n",
              "       [0.78656647],\n",
              "       [0.95731329],\n",
              "       [0.95731329],\n",
              "       [0.70119306],\n",
              "       [0.95731329],\n",
              "       [0.65850636],\n",
              "       [0.70119306],\n",
              "       [0.87193988],\n",
              "       [1.        ],\n",
              "       [0.70119306],\n",
              "       [0.78656647],\n",
              "       [0.70119306],\n",
              "       [0.65850636],\n",
              "       [0.95731329],\n",
              "       [0.65850636],\n",
              "       [0.95731329],\n",
              "       [1.        ],\n",
              "       [0.87193988],\n",
              "       [0.87107315],\n",
              "       [0.59805158],\n",
              "       [0.59805158],\n",
              "       [0.5590485 ],\n",
              "       [0.67605774],\n",
              "       [0.63705466],\n",
              "       [0.5590485 ],\n",
              "       [0.67605774],\n",
              "       [0.63705466],\n",
              "       [0.59805158],\n",
              "       [0.87107315],\n",
              "       [0.79306699],\n",
              "       [0.67605774],\n",
              "       [0.7540639 ],\n",
              "       [0.67605774],\n",
              "       [0.63705466],\n",
              "       [0.52004542],\n",
              "       [0.52004542],\n",
              "       [0.5590485 ],\n",
              "       [0.52004542],\n",
              "       [0.5590485 ],\n",
              "       [0.71506082],\n",
              "       [0.59805158],\n",
              "       [0.71506082],\n",
              "       [0.63705466],\n",
              "       [0.67605774],\n",
              "       [0.7540639 ],\n",
              "       [0.79306699],\n",
              "       [0.59805158],\n",
              "       [0.7540639 ],\n",
              "       [0.59805158],\n",
              "       [0.79306699],\n",
              "       [0.63705466],\n",
              "       [0.83207007],\n",
              "       [0.63705466],\n",
              "       [0.87107315],\n",
              "       [0.59805158],\n",
              "       [0.52004542],\n",
              "       [0.79306699],\n",
              "       [0.67605774],\n",
              "       [0.63705466],\n",
              "       [0.5590485 ],\n",
              "       [0.5590485 ],\n",
              "       [0.79306699],\n",
              "       [0.71506082],\n",
              "       [0.87107315],\n",
              "       [0.79306699],\n",
              "       [0.67605774],\n",
              "       [0.71506082],\n",
              "       [0.52004542],\n",
              "       [0.79306699],\n",
              "       [0.5590485 ],\n",
              "       [0.52004542],\n",
              "       [0.52004542],\n",
              "       [0.59805158],\n",
              "       [0.59805158],\n",
              "       [0.71506082],\n",
              "       [0.7540639 ],\n",
              "       [0.59805158],\n",
              "       [0.79306699],\n",
              "       [0.7540639 ],\n",
              "       [0.63705466],\n",
              "       [0.79306699],\n",
              "       [0.83207007],\n",
              "       [0.52004542],\n",
              "       [0.52004542],\n",
              "       [0.67605774],\n",
              "       [0.67605774],\n",
              "       [0.63705466],\n",
              "       [0.71506082],\n",
              "       [0.59805158],\n",
              "       [0.71506082],\n",
              "       [0.63705466],\n",
              "       [0.67605774],\n",
              "       [0.87107315],\n",
              "       [0.79306699],\n",
              "       [0.71506082],\n",
              "       [0.7540639 ],\n",
              "       [0.59805158],\n",
              "       [0.5590485 ],\n",
              "       [0.83207007],\n",
              "       [0.87107315],\n",
              "       [0.52004542],\n",
              "       [0.43336757],\n",
              "       [0.12134292],\n",
              "       [0.69772179],\n",
              "       [0.71506082],\n",
              "       [0.59805158],\n",
              "       [0.71506082],\n",
              "       [0.83207007],\n",
              "       [0.63705466],\n",
              "       [0.67605774],\n",
              "       [0.63705466],\n",
              "       [0.79306699],\n",
              "       [0.79306699],\n",
              "       [0.52004542],\n",
              "       [0.87107315],\n",
              "       [0.5590485 ],\n",
              "       [0.67605774],\n",
              "       [0.52004542],\n",
              "       [0.71506082],\n",
              "       [0.7540639 ],\n",
              "       [0.7540639 ],\n",
              "       [0.87107315],\n",
              "       [0.5590485 ],\n",
              "       [0.83207007],\n",
              "       [0.79306699],\n",
              "       [0.87107315],\n",
              "       [0.67605774],\n",
              "       [0.63705466],\n",
              "       [0.67605774],\n",
              "       [0.52004542],\n",
              "       [0.52004542],\n",
              "       [0.83207007],\n",
              "       [0.67605774],\n",
              "       [0.7540639 ],\n",
              "       [0.67605774],\n",
              "       [0.7540639 ],\n",
              "       [0.5590485 ],\n",
              "       [0.52004542],\n",
              "       [0.63705466],\n",
              "       [0.31635833],\n",
              "       [0.        ],\n",
              "       [0.23401849],\n",
              "       [0.30769097],\n",
              "       [0.57204519],\n",
              "       [0.7540639 ],\n",
              "       [0.67605774],\n",
              "       [0.83207007],\n",
              "       [0.87107315],\n",
              "       [0.59805158],\n",
              "       [0.7540639 ],\n",
              "       [0.63705466],\n",
              "       [0.59805158],\n",
              "       [0.83207007],\n",
              "       [0.7540639 ],\n",
              "       [0.67605774],\n",
              "       [0.67605774],\n",
              "       [0.7540639 ],\n",
              "       [0.52004542],\n",
              "       [0.71506082],\n",
              "       [0.79306699],\n",
              "       [0.59805158],\n",
              "       [0.87107315],\n",
              "       [0.5590485 ],\n",
              "       [0.79306699],\n",
              "       [0.7540639 ],\n",
              "       [0.87107315],\n",
              "       [0.5590485 ],\n",
              "       [0.71506082],\n",
              "       [0.52004542],\n",
              "       [0.59805158],\n",
              "       [0.71506082],\n",
              "       [0.83207007],\n",
              "       [0.52004542],\n",
              "       [0.59805158],\n",
              "       [0.67605774],\n",
              "       [0.7540639 ],\n",
              "       [0.52004542],\n",
              "       [0.87107315],\n",
              "       [0.83207007],\n",
              "       [0.7540639 ],\n",
              "       [0.79306699],\n",
              "       [0.5590485 ],\n",
              "       [0.52004542],\n",
              "       [0.63705466],\n",
              "       [0.7540639 ],\n",
              "       [0.5590485 ]])"
            ]
          },
          "metadata": {},
          "execution_count": 23
        }
      ]
    },
    {
      "cell_type": "markdown",
      "source": [
        "# Preprocessing"
      ],
      "metadata": {
        "id": "m8V7k13YDMob"
      }
    },
    {
      "cell_type": "code",
      "source": [
        "SEQ_LEN = 100\n",
        "\n",
        "def to_sequences(data, seq_len):\n",
        "    d = []\n",
        "\n",
        "    for index in range(len(data) - seq_len):\n",
        "        d.append(data[index: index + seq_len])\n",
        "\n",
        "    return np.array(d)\n",
        "\n",
        "def preprocess(data_raw, seq_len, train_split):\n",
        "    data = to_sequences(data_raw, seq_len)\n",
        "\n",
        "    num_train = int(train_split * data.shape[0])\n",
        "\n",
        "    X_train = data[:num_train, :-1, :]\n",
        "    y_train = data[:num_train, -1, :]\n",
        "\n",
        "    X_test = data[num_train:, :-1, :]\n",
        "    y_test = data[num_train:, -1, :]\n",
        "\n",
        "    return X_train, y_train, X_test, y_test\n",
        "\n",
        "\n",
        "X_train, y_train, X_test, y_test = preprocess(scaled_cost, SEQ_LEN, train_split = 0.95)"
      ],
      "metadata": {
        "colab": {
          "base_uri": "https://localhost:8080/"
        },
        "id": "pr6juF9aDPJT",
        "outputId": "b1f26307-e79f-46ca-ef1b-f16612541532"
      },
      "execution_count": 69,
      "outputs": [
        {
          "output_type": "stream",
          "name": "stdout",
          "text": [
            "[[0.82925318]\n",
            " [0.91462659]\n",
            " [0.74387977]\n",
            " [0.87193988]\n",
            " [0.61581965]\n",
            " [0.65850636]\n",
            " [0.82925318]\n",
            " [0.82925318]\n",
            " [0.65850636]\n",
            " [0.70119306]\n",
            " [0.65850636]\n",
            " [0.82925318]\n",
            " [0.91462659]\n",
            " [0.78656647]\n",
            " [0.61581965]\n",
            " [0.61581965]\n",
            " [0.74387977]\n",
            " [0.95731329]\n",
            " [0.78656647]\n",
            " [0.82925318]\n",
            " [0.61581965]\n",
            " [0.74387977]\n",
            " [0.91462659]\n",
            " [0.78656647]\n",
            " [0.91462659]\n",
            " [0.74387977]\n",
            " [0.95731329]\n",
            " [0.74387977]\n",
            " [0.87193988]\n",
            " [0.74387977]\n",
            " [0.95731329]\n",
            " [0.82925318]\n",
            " [0.70119306]\n",
            " [0.91462659]\n",
            " [1.        ]\n",
            " [0.70119306]\n",
            " [0.91462659]\n",
            " [0.61581965]\n",
            " [0.87193988]\n",
            " [0.82925318]\n",
            " [0.65850636]\n",
            " [0.87193988]\n",
            " [0.74387977]\n",
            " [0.82925318]\n",
            " [0.95731329]\n",
            " [0.65850636]\n",
            " [0.91462659]\n",
            " [0.82925318]\n",
            " [0.78656647]\n",
            " [1.        ]\n",
            " [0.78656647]\n",
            " [0.87193988]\n",
            " [0.65850636]\n",
            " [0.74387977]\n",
            " [0.91462659]\n",
            " [0.70119306]\n",
            " [0.82925318]\n",
            " [0.95731329]\n",
            " [0.61581965]\n",
            " [0.95731329]\n",
            " [0.70119306]\n",
            " [0.61581965]\n",
            " [0.95731329]\n",
            " [0.91462659]\n",
            " [0.70119306]\n",
            " [0.74387977]\n",
            " [0.65850636]\n",
            " [0.95731329]\n",
            " [0.87193988]\n",
            " [0.70119306]\n",
            " [0.61581965]\n",
            " [0.95731329]\n",
            " [0.91462659]\n",
            " [0.78656647]\n",
            " [0.78656647]\n",
            " [0.78656647]\n",
            " [0.70119306]\n",
            " [0.78656647]\n",
            " [0.74387977]\n",
            " [0.70119306]\n",
            " [0.78656647]\n",
            " [0.61581965]\n",
            " [0.78656647]\n",
            " [0.78656647]\n",
            " [0.95731329]\n",
            " [0.95731329]\n",
            " [0.70119306]\n",
            " [0.95731329]\n",
            " [0.65850636]\n",
            " [0.70119306]\n",
            " [0.87193988]\n",
            " [1.        ]\n",
            " [0.70119306]\n",
            " [0.78656647]\n",
            " [0.70119306]\n",
            " [0.65850636]\n",
            " [0.95731329]\n",
            " [0.65850636]\n",
            " [0.95731329]\n",
            " [1.        ]\n",
            " [0.87193988]\n",
            " [0.87107315]\n",
            " [0.59805158]\n",
            " [0.59805158]\n",
            " [0.5590485 ]\n",
            " [0.67605774]\n",
            " [0.63705466]\n",
            " [0.5590485 ]\n",
            " [0.67605774]\n",
            " [0.63705466]\n",
            " [0.59805158]\n",
            " [0.87107315]\n",
            " [0.79306699]\n",
            " [0.67605774]\n",
            " [0.7540639 ]\n",
            " [0.67605774]\n",
            " [0.63705466]\n",
            " [0.52004542]\n",
            " [0.52004542]\n",
            " [0.5590485 ]\n",
            " [0.52004542]\n",
            " [0.5590485 ]\n",
            " [0.71506082]\n",
            " [0.59805158]\n",
            " [0.71506082]\n",
            " [0.63705466]\n",
            " [0.67605774]\n",
            " [0.7540639 ]\n",
            " [0.79306699]\n",
            " [0.59805158]\n",
            " [0.7540639 ]\n",
            " [0.59805158]\n",
            " [0.79306699]\n",
            " [0.63705466]\n",
            " [0.83207007]\n",
            " [0.63705466]\n",
            " [0.87107315]\n",
            " [0.59805158]\n",
            " [0.52004542]\n",
            " [0.79306699]\n",
            " [0.67605774]\n",
            " [0.63705466]\n",
            " [0.5590485 ]\n",
            " [0.5590485 ]\n",
            " [0.79306699]\n",
            " [0.71506082]\n",
            " [0.87107315]\n",
            " [0.79306699]\n",
            " [0.67605774]\n",
            " [0.71506082]\n",
            " [0.52004542]\n",
            " [0.79306699]\n",
            " [0.5590485 ]\n",
            " [0.52004542]\n",
            " [0.52004542]\n",
            " [0.59805158]\n",
            " [0.59805158]\n",
            " [0.71506082]\n",
            " [0.7540639 ]\n",
            " [0.59805158]\n",
            " [0.79306699]\n",
            " [0.7540639 ]\n",
            " [0.63705466]\n",
            " [0.79306699]\n",
            " [0.83207007]\n",
            " [0.52004542]\n",
            " [0.52004542]\n",
            " [0.67605774]\n",
            " [0.67605774]\n",
            " [0.63705466]\n",
            " [0.71506082]\n",
            " [0.59805158]\n",
            " [0.71506082]\n",
            " [0.63705466]\n",
            " [0.67605774]\n",
            " [0.87107315]\n",
            " [0.79306699]\n",
            " [0.71506082]\n",
            " [0.7540639 ]\n",
            " [0.59805158]\n",
            " [0.5590485 ]\n",
            " [0.83207007]\n",
            " [0.87107315]\n",
            " [0.52004542]\n",
            " [0.43336757]\n",
            " [0.12134292]\n",
            " [0.69772179]\n",
            " [0.71506082]\n",
            " [0.59805158]\n",
            " [0.71506082]\n",
            " [0.83207007]\n",
            " [0.63705466]\n",
            " [0.67605774]\n",
            " [0.63705466]\n",
            " [0.79306699]\n",
            " [0.79306699]\n",
            " [0.52004542]\n",
            " [0.87107315]\n",
            " [0.5590485 ]\n",
            " [0.67605774]\n",
            " [0.52004542]\n",
            " [0.71506082]\n",
            " [0.7540639 ]\n",
            " [0.7540639 ]\n",
            " [0.87107315]\n",
            " [0.5590485 ]\n",
            " [0.83207007]\n",
            " [0.79306699]\n",
            " [0.87107315]\n",
            " [0.67605774]\n",
            " [0.63705466]\n",
            " [0.67605774]\n",
            " [0.52004542]\n",
            " [0.52004542]\n",
            " [0.83207007]\n",
            " [0.67605774]\n",
            " [0.7540639 ]\n",
            " [0.67605774]\n",
            " [0.7540639 ]\n",
            " [0.5590485 ]\n",
            " [0.52004542]\n",
            " [0.63705466]\n",
            " [0.31635833]\n",
            " [0.        ]\n",
            " [0.23401849]\n",
            " [0.30769097]\n",
            " [0.57204519]\n",
            " [0.7540639 ]\n",
            " [0.67605774]\n",
            " [0.83207007]\n",
            " [0.87107315]\n",
            " [0.59805158]\n",
            " [0.7540639 ]\n",
            " [0.63705466]\n",
            " [0.59805158]\n",
            " [0.83207007]\n",
            " [0.7540639 ]\n",
            " [0.67605774]\n",
            " [0.67605774]\n",
            " [0.7540639 ]\n",
            " [0.52004542]\n",
            " [0.71506082]\n",
            " [0.79306699]\n",
            " [0.59805158]\n",
            " [0.87107315]\n",
            " [0.5590485 ]\n",
            " [0.79306699]\n",
            " [0.7540639 ]\n",
            " [0.87107315]\n",
            " [0.5590485 ]\n",
            " [0.71506082]\n",
            " [0.52004542]\n",
            " [0.59805158]\n",
            " [0.71506082]\n",
            " [0.83207007]\n",
            " [0.52004542]\n",
            " [0.59805158]\n",
            " [0.67605774]\n",
            " [0.7540639 ]\n",
            " [0.52004542]\n",
            " [0.87107315]\n",
            " [0.83207007]\n",
            " [0.7540639 ]\n",
            " [0.79306699]\n",
            " [0.5590485 ]\n",
            " [0.52004542]\n",
            " [0.63705466]\n",
            " [0.7540639 ]\n",
            " [0.5590485 ]]\n"
          ]
        }
      ]
    },
    {
      "cell_type": "code",
      "source": [
        "X_train.shape"
      ],
      "metadata": {
        "colab": {
          "base_uri": "https://localhost:8080/"
        },
        "id": "6u1oGfMsDXJG",
        "outputId": "c8247f2e-591c-432e-b699-c16610fc6dc3"
      },
      "execution_count": 25,
      "outputs": [
        {
          "output_type": "execute_result",
          "data": {
            "text/plain": [
              "(160, 99, 1)"
            ]
          },
          "metadata": {},
          "execution_count": 25
        }
      ]
    },
    {
      "cell_type": "code",
      "source": [
        "X_test.shape"
      ],
      "metadata": {
        "colab": {
          "base_uri": "https://localhost:8080/"
        },
        "id": "d8dYQYfqDYY3",
        "outputId": "37866986-f8b4-4d0b-ddb7-339d3c9a0f8c"
      },
      "execution_count": 26,
      "outputs": [
        {
          "output_type": "execute_result",
          "data": {
            "text/plain": [
              "(9, 99, 1)"
            ]
          },
          "metadata": {},
          "execution_count": 26
        }
      ]
    },
    {
      "cell_type": "markdown",
      "source": [
        "## Model"
      ],
      "metadata": {
        "id": "R_V2Ur-QEHqO"
      }
    },
    {
      "cell_type": "code",
      "source": [
        "DROPOUT = 0.2\n",
        "WINDOW_SIZE = SEQ_LEN - 1\n",
        "model = tf.keras.models.Sequential([\n",
        "  tf.keras.layers.Bidirectional(tf.keras.layers.LSTM(WINDOW_SIZE, return_sequences=True),\n",
        "                        input_shape=(WINDOW_SIZE, X_train.shape[-1])),\n",
        "  tf.keras.layers.Dropout(rate=DROPOUT),\n",
        "  tf.keras.layers.Bidirectional(tf.keras.layers.LSTM((WINDOW_SIZE * 2), return_sequences=True)),\n",
        "  tf.keras.layers.Dropout(rate=DROPOUT),\n",
        "  tf.keras.layers.Bidirectional(tf.keras.layers.LSTM(WINDOW_SIZE, return_sequences=False)),\n",
        "  tf.keras.layers.Dense(units=1)\n",
        "])"
      ],
      "metadata": {
        "id": "iYWugTRmDawy"
      },
      "execution_count": 28,
      "outputs": []
    },
    {
      "cell_type": "code",
      "source": [
        "model.compile(\n",
        "    loss=tf.keras.losses.Huber(), \n",
        "    optimizer='adam',\n",
        "    metrics=[\"mae\"]\n",
        ")"
      ],
      "metadata": {
        "id": "gBtpf0VQEtWJ"
      },
      "execution_count": 35,
      "outputs": []
    },
    {
      "cell_type": "code",
      "source": [
        "BATCH_SIZE = 64\n",
        "\n",
        "history = model.fit(\n",
        "    X_train, \n",
        "    y_train, \n",
        "    epochs=50, \n",
        "    batch_size=BATCH_SIZE, \n",
        "    shuffle=False,\n",
        "    validation_split=0.1\n",
        ")"
      ],
      "metadata": {
        "colab": {
          "base_uri": "https://localhost:8080/"
        },
        "id": "wlvUDUdiEuW6",
        "outputId": "c82cdf4f-6131-4d0a-ca5d-0d53427f89e4"
      },
      "execution_count": 36,
      "outputs": [
        {
          "output_type": "stream",
          "name": "stdout",
          "text": [
            "Epoch 1/50\n",
            "3/3 [==============================] - 10s 1s/step - loss: 0.0208 - mae: 0.1693 - val_loss: 0.0133 - val_mae: 0.1352\n",
            "Epoch 2/50\n",
            "3/3 [==============================] - 0s 87ms/step - loss: 0.0211 - mae: 0.1617 - val_loss: 0.0085 - val_mae: 0.1126\n",
            "Epoch 3/50\n",
            "3/3 [==============================] - 0s 63ms/step - loss: 0.0118 - mae: 0.1231 - val_loss: 0.0101 - val_mae: 0.1157\n",
            "Epoch 4/50\n",
            "3/3 [==============================] - 0s 57ms/step - loss: 0.0102 - mae: 0.1055 - val_loss: 0.0087 - val_mae: 0.1123\n",
            "Epoch 5/50\n",
            "3/3 [==============================] - 0s 59ms/step - loss: 0.0141 - mae: 0.1283 - val_loss: 0.0073 - val_mae: 0.1076\n",
            "Epoch 6/50\n",
            "3/3 [==============================] - 0s 53ms/step - loss: 0.0107 - mae: 0.1144 - val_loss: 0.0094 - val_mae: 0.1145\n",
            "Epoch 7/50\n",
            "3/3 [==============================] - 0s 55ms/step - loss: 0.0103 - mae: 0.1103 - val_loss: 0.0074 - val_mae: 0.1085\n",
            "Epoch 8/50\n",
            "3/3 [==============================] - 0s 54ms/step - loss: 0.0103 - mae: 0.1087 - val_loss: 0.0074 - val_mae: 0.1074\n",
            "Epoch 9/50\n",
            "3/3 [==============================] - 0s 51ms/step - loss: 0.0115 - mae: 0.1160 - val_loss: 0.0073 - val_mae: 0.1084\n",
            "Epoch 10/50\n",
            "3/3 [==============================] - 0s 53ms/step - loss: 0.0102 - mae: 0.1107 - val_loss: 0.0081 - val_mae: 0.1114\n",
            "Epoch 11/50\n",
            "3/3 [==============================] - 0s 56ms/step - loss: 0.0099 - mae: 0.1080 - val_loss: 0.0074 - val_mae: 0.1085\n",
            "Epoch 12/50\n",
            "3/3 [==============================] - 0s 58ms/step - loss: 0.0101 - mae: 0.1081 - val_loss: 0.0072 - val_mae: 0.1074\n",
            "Epoch 13/50\n",
            "3/3 [==============================] - 0s 55ms/step - loss: 0.0105 - mae: 0.1098 - val_loss: 0.0073 - val_mae: 0.1082\n",
            "Epoch 14/50\n",
            "3/3 [==============================] - 0s 54ms/step - loss: 0.0102 - mae: 0.1108 - val_loss: 0.0076 - val_mae: 0.1099\n",
            "Epoch 15/50\n",
            "3/3 [==============================] - 0s 53ms/step - loss: 0.0099 - mae: 0.1076 - val_loss: 0.0073 - val_mae: 0.1084\n",
            "Epoch 16/50\n",
            "3/3 [==============================] - 0s 53ms/step - loss: 0.0101 - mae: 0.1086 - val_loss: 0.0072 - val_mae: 0.1075\n",
            "Epoch 17/50\n",
            "3/3 [==============================] - 0s 54ms/step - loss: 0.0104 - mae: 0.1106 - val_loss: 0.0074 - val_mae: 0.1088\n",
            "Epoch 18/50\n",
            "3/3 [==============================] - 0s 57ms/step - loss: 0.0101 - mae: 0.1099 - val_loss: 0.0075 - val_mae: 0.1094\n",
            "Epoch 19/50\n",
            "3/3 [==============================] - 0s 54ms/step - loss: 0.0101 - mae: 0.1090 - val_loss: 0.0073 - val_mae: 0.1079\n",
            "Epoch 20/50\n",
            "3/3 [==============================] - 0s 53ms/step - loss: 0.0102 - mae: 0.1101 - val_loss: 0.0073 - val_mae: 0.1080\n",
            "Epoch 21/50\n",
            "3/3 [==============================] - 0s 54ms/step - loss: 0.0102 - mae: 0.1106 - val_loss: 0.0075 - val_mae: 0.1095\n",
            "Epoch 22/50\n",
            "3/3 [==============================] - 0s 53ms/step - loss: 0.0099 - mae: 0.1089 - val_loss: 0.0074 - val_mae: 0.1091\n",
            "Epoch 23/50\n",
            "3/3 [==============================] - 0s 53ms/step - loss: 0.0099 - mae: 0.1087 - val_loss: 0.0074 - val_mae: 0.1087\n",
            "Epoch 24/50\n",
            "3/3 [==============================] - 0s 52ms/step - loss: 0.0100 - mae: 0.1087 - val_loss: 0.0075 - val_mae: 0.1095\n",
            "Epoch 25/50\n",
            "3/3 [==============================] - 0s 53ms/step - loss: 0.0097 - mae: 0.1073 - val_loss: 0.0075 - val_mae: 0.1093\n",
            "Epoch 26/50\n",
            "3/3 [==============================] - 0s 57ms/step - loss: 0.0099 - mae: 0.1076 - val_loss: 0.0074 - val_mae: 0.1092\n",
            "Epoch 27/50\n",
            "3/3 [==============================] - 0s 51ms/step - loss: 0.0097 - mae: 0.1077 - val_loss: 0.0076 - val_mae: 0.1101\n",
            "Epoch 28/50\n",
            "3/3 [==============================] - 0s 52ms/step - loss: 0.0099 - mae: 0.1079 - val_loss: 0.0074 - val_mae: 0.1091\n",
            "Epoch 29/50\n",
            "3/3 [==============================] - 0s 54ms/step - loss: 0.0099 - mae: 0.1079 - val_loss: 0.0076 - val_mae: 0.1100\n",
            "Epoch 30/50\n",
            "3/3 [==============================] - 0s 54ms/step - loss: 0.0097 - mae: 0.1077 - val_loss: 0.0076 - val_mae: 0.1104\n",
            "Epoch 31/50\n",
            "3/3 [==============================] - 0s 57ms/step - loss: 0.0095 - mae: 0.1061 - val_loss: 0.0075 - val_mae: 0.1099\n",
            "Epoch 32/50\n",
            "3/3 [==============================] - 0s 54ms/step - loss: 0.0096 - mae: 0.1073 - val_loss: 0.0077 - val_mae: 0.1107\n",
            "Epoch 33/50\n",
            "3/3 [==============================] - 0s 53ms/step - loss: 0.0096 - mae: 0.1064 - val_loss: 0.0076 - val_mae: 0.1105\n",
            "Epoch 34/50\n",
            "3/3 [==============================] - 0s 57ms/step - loss: 0.0096 - mae: 0.1063 - val_loss: 0.0078 - val_mae: 0.1112\n",
            "Epoch 35/50\n",
            "3/3 [==============================] - 0s 54ms/step - loss: 0.0094 - mae: 0.1059 - val_loss: 0.0076 - val_mae: 0.1103\n",
            "Epoch 36/50\n",
            "3/3 [==============================] - 0s 53ms/step - loss: 0.0096 - mae: 0.1067 - val_loss: 0.0079 - val_mae: 0.1121\n",
            "Epoch 37/50\n",
            "3/3 [==============================] - 0s 53ms/step - loss: 0.0094 - mae: 0.1061 - val_loss: 0.0077 - val_mae: 0.1108\n",
            "Epoch 38/50\n",
            "3/3 [==============================] - 0s 52ms/step - loss: 0.0094 - mae: 0.1050 - val_loss: 0.0079 - val_mae: 0.1121\n",
            "Epoch 39/50\n",
            "3/3 [==============================] - 0s 52ms/step - loss: 0.0093 - mae: 0.1062 - val_loss: 0.0078 - val_mae: 0.1121\n",
            "Epoch 40/50\n",
            "3/3 [==============================] - 0s 54ms/step - loss: 0.0091 - mae: 0.1042 - val_loss: 0.0080 - val_mae: 0.1131\n",
            "Epoch 41/50\n",
            "3/3 [==============================] - 0s 52ms/step - loss: 0.0092 - mae: 0.1052 - val_loss: 0.0077 - val_mae: 0.1117\n",
            "Epoch 42/50\n",
            "3/3 [==============================] - 0s 55ms/step - loss: 0.0092 - mae: 0.1053 - val_loss: 0.0081 - val_mae: 0.1136\n",
            "Epoch 43/50\n",
            "3/3 [==============================] - 0s 56ms/step - loss: 0.0092 - mae: 0.1043 - val_loss: 0.0079 - val_mae: 0.1127\n",
            "Epoch 44/50\n",
            "3/3 [==============================] - 0s 59ms/step - loss: 0.0092 - mae: 0.1060 - val_loss: 0.0078 - val_mae: 0.1120\n",
            "Epoch 45/50\n",
            "3/3 [==============================] - 0s 53ms/step - loss: 0.0094 - mae: 0.1062 - val_loss: 0.0080 - val_mae: 0.1133\n",
            "Epoch 46/50\n",
            "3/3 [==============================] - 0s 54ms/step - loss: 0.0088 - mae: 0.1024 - val_loss: 0.0078 - val_mae: 0.1120\n",
            "Epoch 47/50\n",
            "3/3 [==============================] - 0s 54ms/step - loss: 0.0093 - mae: 0.1062 - val_loss: 0.0080 - val_mae: 0.1133\n",
            "Epoch 48/50\n",
            "3/3 [==============================] - 0s 53ms/step - loss: 0.0093 - mae: 0.1048 - val_loss: 0.0081 - val_mae: 0.1138\n",
            "Epoch 49/50\n",
            "3/3 [==============================] - 0s 55ms/step - loss: 0.0088 - mae: 0.1039 - val_loss: 0.0078 - val_mae: 0.1123\n",
            "Epoch 50/50\n",
            "3/3 [==============================] - 0s 55ms/step - loss: 0.0089 - mae: 0.1042 - val_loss: 0.0079 - val_mae: 0.1134\n"
          ]
        }
      ]
    },
    {
      "cell_type": "code",
      "source": [
        "model.evaluate(X_test, y_test)"
      ],
      "metadata": {
        "colab": {
          "base_uri": "https://localhost:8080/"
        },
        "id": "T0fiCepLEwWk",
        "outputId": "8a261a32-e0eb-4cf9-bae3-bcd7dcd753e8"
      },
      "execution_count": 37,
      "outputs": [
        {
          "output_type": "stream",
          "name": "stdout",
          "text": [
            "1/1 [==============================] - 0s 43ms/step - loss: 0.0087 - mae: 0.1189\n"
          ]
        },
        {
          "output_type": "execute_result",
          "data": {
            "text/plain": [
              "[0.008724161423742771, 0.11885622143745422]"
            ]
          },
          "metadata": {},
          "execution_count": 37
        }
      ]
    },
    {
      "cell_type": "code",
      "source": [
        "model.summary()"
      ],
      "metadata": {
        "colab": {
          "base_uri": "https://localhost:8080/"
        },
        "id": "MftH5PauHnlu",
        "outputId": "40881c6f-b8a4-4504-9d32-525ce96099a2"
      },
      "execution_count": 38,
      "outputs": [
        {
          "output_type": "stream",
          "name": "stdout",
          "text": [
            "Model: \"sequential\"\n",
            "_________________________________________________________________\n",
            " Layer (type)                Output Shape              Param #   \n",
            "=================================================================\n",
            " bidirectional_3 (Bidirectio  (None, 99, 198)          79992     \n",
            " nal)                                                            \n",
            "                                                                 \n",
            " dropout_2 (Dropout)         (None, 99, 198)           0         \n",
            "                                                                 \n",
            " bidirectional_4 (Bidirectio  (None, 99, 396)          628848    \n",
            " nal)                                                            \n",
            "                                                                 \n",
            " dropout_3 (Dropout)         (None, 99, 396)           0         \n",
            "                                                                 \n",
            " bidirectional_5 (Bidirectio  (None, 198)              392832    \n",
            " nal)                                                            \n",
            "                                                                 \n",
            " dense_1 (Dense)             (None, 1)                 199       \n",
            "                                                                 \n",
            "=================================================================\n",
            "Total params: 1,101,871\n",
            "Trainable params: 1,101,871\n",
            "Non-trainable params: 0\n",
            "_________________________________________________________________\n"
          ]
        }
      ]
    },
    {
      "cell_type": "code",
      "source": [
        "plt.plot(history.history['loss'])\n",
        "plt.plot(history.history['val_loss'])\n",
        "plt.title('model loss')\n",
        "plt.ylabel('loss')\n",
        "plt.xlabel('epoch')\n",
        "plt.legend(['train', 'test'], loc='upper left')\n",
        "plt.show()"
      ],
      "metadata": {
        "colab": {
          "base_uri": "https://localhost:8080/",
          "height": 295
        },
        "id": "aNeaPk63EyEq",
        "outputId": "1550940b-03b3-4072-be44-0f23d17064ec"
      },
      "execution_count": 39,
      "outputs": [
        {
          "output_type": "display_data",
          "data": {
            "text/plain": [
              "<Figure size 432x288 with 1 Axes>"
            ],
            "image/png": "[encoded data removed]"
          },
          "metadata": {
            "needs_background": "light"
          }
        }
      ]
    },
    {
      "cell_type": "code",
      "source": [
        "fig = plt.figure()\n",
        "plt.plot(history.history['loss'], 'r', history.history['val_loss'], 'b')\n",
        "fig.suptitle('Loss Vs Val Loss', fontsize=20)"
      ],
      "metadata": {
        "colab": {
          "base_uri": "https://localhost:8080/",
          "height": 311
        },
        "id": "Knt-t_FEIEhc",
        "outputId": "11b28064-4621-435c-b2d2-fbf664b61b50"
      },
      "execution_count": 40,
      "outputs": [
        {
          "output_type": "execute_result",
          "data": {
            "text/plain": [
              "Text(0.5, 0.98, 'Loss Vs Val Loss')"
            ]
          },
          "metadata": {},
          "execution_count": 40
        },
        {
          "output_type": "display_data",
          "data": {
            "text/plain": [
              "<Figure size 432x288 with 1 Axes>"
            ],
            "image/png": "[encoded data removed]"
          },
          "metadata": {
            "needs_background": "light"
          }
        }
      ]
    },
    {
      "cell_type": "code",
      "source": [
        "fig = plt.figure()\n",
        "plt.plot(history.history['mae'], 'r', history.history['val_mae'], 'b')\n",
        "fig.suptitle('MAE Vs Val MAE', fontsize=20)"
      ],
      "metadata": {
        "colab": {
          "base_uri": "https://localhost:8080/",
          "height": 311
        },
        "id": "72tsXfjrIF-0",
        "outputId": "cca2cfe7-ba4b-4cd1-baf2-32ef605071d2"
      },
      "execution_count": 41,
      "outputs": [
        {
          "output_type": "execute_result",
          "data": {
            "text/plain": [
              "Text(0.5, 0.98, 'MAE Vs Val MAE')"
            ]
          },
          "metadata": {},
          "execution_count": 41
        },
        {
          "output_type": "display_data",
          "data": {
            "text/plain": [
              "<Figure size 432x288 with 1 Axes>"
            ],
            "image/png": "[encoded data removed]"
          },
          "metadata": {
            "needs_background": "light"
          }
        }
      ]
    },
    {
      "cell_type": "markdown",
      "source": [
        "# Prediction"
      ],
      "metadata": {
        "id": "0uz3IsCIE0rY"
      }
    },
    {
      "cell_type": "code",
      "source": [
        "y_hat = model.predict(X_test)\n",
        "\n",
        "y_test_inverse = scaler.inverse_transform(y_test)\n",
        "y_hat_inverse = scaler.inverse_transform(y_hat)\n",
        " \n",
        "plt.plot(y_test_inverse, label=\"Actual Price\", color='green')\n",
        "plt.plot(y_hat_inverse, label=\"Predicted Price\", color='red')\n",
        " \n",
        "plt.title('Cost prediction')\n",
        "plt.xlabel('Time')\n",
        "plt.ylabel('Cost')\n",
        "plt.legend(loc='best')\n",
        " \n",
        "plt.show();"
      ],
      "metadata": {
        "colab": {
          "base_uri": "https://localhost:8080/",
          "height": 295
        },
        "id": "Tlhx0g5oE1-D",
        "outputId": "86c26c80-8cd3-4d43-a046-957aef98a078"
      },
      "execution_count": 42,
      "outputs": [
        {
          "output_type": "display_data",
          "data": {
            "text/plain": [
              "<Figure size 432x288 with 1 Axes>"
            ],
            "image/png": "[encoded data removed]"
          },
          "metadata": {
            "needs_background": "light"
          }
        }
      ]
    },
    {
      "cell_type": "code",
      "source": [
        "testing_data = pd.Series(np.array([100000, 200000, 233323, 33233, 222323, 3232313, 232313, 2312333, 132311123]))\n",
        "testing_data = testing_data.values.reshape(-1, 1)\n",
        "scaler_testing_data = scaler.fit_transform(testing_data)\n",
        "scaler_testing_data = scaler_testing_data"
      ],
      "metadata": {
        "id": "ky__ntbXISzw"
      },
      "execution_count": 82,
      "outputs": []
    },
    {
      "cell_type": "code",
      "source": [
        "testing_sequence = to_sequences(scaler_testing_data, 2)\n",
        "testing_sequence = testing_sequence[:,-1,:]"
      ],
      "metadata": {
        "id": "WVrh7-7ELeb_"
      },
      "execution_count": 83,
      "outputs": []
    },
    {
      "cell_type": "code",
      "source": [
        "forecast = model.predict(testing_sequence)"
      ],
      "metadata": {
        "id": "Dx7EzyCBL9_4"
      },
      "execution_count": 88,
      "outputs": []
    },
    {
      "cell_type": "code",
      "source": [
        "forecast = scaler.inverse_transform(forecast)"
      ],
      "metadata": {
        "id": "uNw6AzjUKO9j"
      },
      "execution_count": 92,
      "outputs": []
    },
    {
      "cell_type": "code",
      "source": [
        "forecast.flatten()"
      ],
      "metadata": {
        "colab": {
          "base_uri": "https://localhost:8080/"
        },
        "id": "b5vYl1sBQdJb",
        "outputId": "233e4ef3-3951-4b48-f1a2-127ede99924a"
      },
      "execution_count": 93,
      "outputs": [
        {
          "output_type": "execute_result",
          "data": {
            "text/plain": [
              "array([11386792., 11389484., 11373320., 11388596., 11631674., 11389402.,\n",
              "       11557396.], dtype=float32)"
            ]
          },
          "metadata": {},
          "execution_count": 93
        }
      ]
    },
    {
      "cell_type": "code",
      "source": [
        "model.predict(X_test)"
      ],
      "metadata": {
        "colab": {
          "base_uri": "https://localhost:8080/"
        },
        "id": "xzZ9LNOVIujy",
        "outputId": "4f24b459-0cc4-443f-ed0a-3212fba8b1ed"
      },
      "execution_count": 49,
      "outputs": [
        {
          "output_type": "execute_result",
          "data": {
            "text/plain": [
              "array([[0.6789448 ],\n",
              "       [0.65023553],\n",
              "       [0.68953866],\n",
              "       [0.7045893 ],\n",
              "       [0.6953036 ],\n",
              "       [0.6927635 ],\n",
              "       [0.6541016 ],\n",
              "       [0.62596136],\n",
              "       [0.6327288 ]], dtype=float32)"
            ]
          },
          "metadata": {},
          "execution_count": 49
        }
      ]
    },
    {
      "cell_type": "code",
      "source": [
        "model.save(\"v2.h5\")"
      ],
      "metadata": {
        "id": "cfi31kr6O68L"
      },
      "execution_count": 91,
      "outputs": []
    },
    {
      "cell_type": "code",
      "source": [
        "X_test.shape"
      ],
      "metadata": {
        "colab": {
          "base_uri": "https://localhost:8080/"
        },
        "id": "j_F2X7l-JBmA",
        "outputId": "8dc3ece2-3d51-4a0d-9e8d-f7438f5c06a8"
      },
      "execution_count": 62,
      "outputs": [
        {
          "output_type": "execute_result",
          "data": {
            "text/plain": [
              "(9, 99, 1)"
            ]
          },
          "metadata": {},
          "execution_count": 62
        }
      ]
    },
    {
      "cell_type": "code",
      "source": [
        "y_test"
      ],
      "metadata": {
        "colab": {
          "base_uri": "https://localhost:8080/"
        },
        "id": "SX4AX7Q0I0vQ",
        "outputId": "c691e825-2b47-4ecb-8dc6-5081b14c02ba"
      },
      "execution_count": 48,
      "outputs": [
        {
          "output_type": "execute_result",
          "data": {
            "text/plain": [
              "array([[0.52004542],\n",
              "       [0.87107315],\n",
              "       [0.83207007],\n",
              "       [0.7540639 ],\n",
              "       [0.79306699],\n",
              "       [0.5590485 ],\n",
              "       [0.52004542],\n",
              "       [0.63705466],\n",
              "       [0.7540639 ]])"
            ]
          },
          "metadata": {},
          "execution_count": 48
        }
      ]
    }
  ]
}